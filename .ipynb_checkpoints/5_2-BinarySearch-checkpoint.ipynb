{
 "cells": [
  {
   "cell_type": "code",
   "execution_count": 4,
   "id": "16226100",
   "metadata": {},
   "outputs": [
    {
     "name": "stdout",
     "output_type": "stream",
     "text": [
      "True\n"
     ]
    }
   ],
   "source": [
    "# no iter\n",
    "data = [2,5,6,11,15,18,21,25,31]\n",
    "cari = 15\n",
    "firstInd =0\n",
    "lastInd = len(data)-1\n",
    "found = False\n",
    "middle = (len(data))//2\n",
    "if cari == data[middle]:\n",
    "    found = True\n",
    "elif cari < data[middle]:\n",
    "    lastInd = middle -1\n",
    "elif cari > data[middle]:\n",
    "    firstInd = middle +1\n",
    "print(found)"
   ]
  },
  {
   "cell_type": "code",
   "execution_count": null,
   "id": "70d02667",
   "metadata": {},
   "outputs": [],
   "source": []
  },
  {
   "cell_type": "code",
   "execution_count": 6,
   "id": "34884b8d",
   "metadata": {
    "scrolled": true
   },
   "outputs": [
    {
     "name": "stdout",
     "output_type": "stream",
     "text": [
      "0 8 4\n",
      "0 3 1\n",
      "0 0 0\n",
      "True\n"
     ]
    }
   ],
   "source": [
    "data = [2,5,6,11,15,18,21,25,31]\n",
    "cari = 2\n",
    "firstInd =0\n",
    "lastInd = len(data)-1\n",
    "found = False\n",
    "\n",
    "while not found : \n",
    "    middle = (firstInd+lastInd)//2\n",
    "    print(firstInd,lastInd,middle)\n",
    "    \n",
    "    if cari == data[middle]:\n",
    "        found = True\n",
    "    elif cari < data[middle]:\n",
    "        lastInd = middle -1\n",
    "    elif cari > data[middle]:\n",
    "        firstInd = middle +1\n",
    "print(found)"
   ]
  },
  {
   "cell_type": "code",
   "execution_count": 7,
   "id": "c162ee2b",
   "metadata": {},
   "outputs": [
    {
     "name": "stdout",
     "output_type": "stream",
     "text": [
      "0 8 4\n",
      "0 3 1\n",
      "0 0 0\n",
      "False\n"
     ]
    }
   ],
   "source": [
    "data = [2,5,6,11,15,18,21,25,31]\n",
    "cari = 0\n",
    "firstInd =0\n",
    "lastInd = len(data)-1\n",
    "found = False\n",
    "\n",
    "while not found and firstInd <= lastInd : \n",
    "    middle = (firstInd+lastInd)//2\n",
    "    print(firstInd,lastInd,middle)\n",
    "    \n",
    "    if cari == data[middle]:\n",
    "        found = True\n",
    "    elif cari < data[middle]:\n",
    "        lastInd = middle -1\n",
    "    elif cari > data[middle]:\n",
    "        firstInd = middle +1\n",
    "print(found)"
   ]
  },
  {
   "cell_type": "code",
   "execution_count": null,
   "id": "6d34a810",
   "metadata": {},
   "outputs": [],
   "source": []
  },
  {
   "cell_type": "code",
   "execution_count": 91,
   "id": "fc66f884",
   "metadata": {},
   "outputs": [
    {
     "name": "stdout",
     "output_type": "stream",
     "text": [
      "True\n"
     ]
    }
   ],
   "source": [
    "data = [2,5,6,11,15,18,21,25,31]\n",
    "cari = 31\n",
    "awal =0\n",
    "akhir = len(data)-1\n",
    "found = False\n",
    "while not found and awal <= akhir :\n",
    "    mid = (awal+akhir)//2\n",
    "    if cari == data[mid]:\n",
    "        found = True\n",
    "    elif cari < data[mid]:\n",
    "        akhir = mid -1\n",
    "    elif cari > data[mid]:\n",
    "        awal = mid +1\n",
    "        \n",
    "print(found)"
   ]
  },
  {
   "cell_type": "code",
   "execution_count": 8,
   "id": "26de77de",
   "metadata": {},
   "outputs": [
    {
     "name": "stdout",
     "output_type": "stream",
     "text": [
      "True\n"
     ]
    }
   ],
   "source": [
    "def binarySearch(listData,data):\n",
    "    first = 0\n",
    "    last = len(listData)-1\n",
    "    found = False\n",
    "    \n",
    "    while first <= last and not found:\n",
    "        midpoint = (first+last)//2\n",
    "        if listData[midpoint]==data:\n",
    "            found = True\n",
    "        else:\n",
    "            if data < listData[midpoint]:\n",
    "                last = midpoint - 1\n",
    "            else:\n",
    "                first = midpoint +1\n",
    "    return found\n",
    "# [0, 1,2,3, 4, 5, 6]\n",
    "a=[4,6,10,34,56,78,99]\n",
    "print(binarySearch(a,99))"
   ]
  },
  {
   "cell_type": "code",
   "execution_count": 4,
   "id": "f239bc44",
   "metadata": {},
   "outputs": [
    {
     "name": "stdout",
     "output_type": "stream",
     "text": [
      "3\n",
      "[2, 3]\n"
     ]
    }
   ],
   "source": [
    "def modBinarySearch(listData,data):\n",
    "    first = 0\n",
    "    last = len(listData)-1\n",
    "    found = False\n",
    "    position = []\n",
    "    \n",
    "    while first <= last and not found:\n",
    "        midpoint = (first+last)//2\n",
    "        if listData[midpoint]== data:\n",
    "            found = True\n",
    "            print(midpoint)\n",
    "            position.append(midpoint)\n",
    "            i=1\n",
    "            while listData[midpoint-i] == data:\n",
    "                position.insert(0,midpoint-i)\n",
    "                i+=1\n",
    "            j=1\n",
    "            while listData[midpoint+j] == data:\n",
    "                position.append(midpoint+j)\n",
    "                j+=1\n",
    "\n",
    "                \n",
    "        else:\n",
    "            if data < listData[midpoint]:\n",
    "                last = midpoint-1\n",
    "            else:\n",
    "                first = midpoint+1\n",
    "    return position\n",
    "\n",
    "# [0,1,2, 3, 4]\n",
    "a=[4,0,10,10,34,56,78,99]\n",
    "print(modBinarySearch(a,10))"
   ]
  },
  {
   "cell_type": "code",
   "execution_count": 5,
   "id": "2219ad19",
   "metadata": {},
   "outputs": [
    {
     "name": "stdout",
     "output_type": "stream",
     "text": [
      "False\n"
     ]
    }
   ],
   "source": [
    "def recBinarySearch(listData,data):\n",
    "    if len(listData) == 0:\n",
    "        return False\n",
    "    else:\n",
    "        midpoint = (len(listData)-1)//2\n",
    "#         print(listData[midpoint],midpoint)\n",
    "        if data == listData[midpoint]:\n",
    "            return True\n",
    "        else:                \n",
    "            if data < listData[midpoint]:\n",
    "#                 if midpoint == 1:\n",
    "#                     return recBinarySearch(listData[:midpoint],data)\n",
    "                return recBinarySearch(listData[:midpoint-1],data)\n",
    "            else:\n",
    "                return recBinarySearch(listData[midpoint+1:],data)\n",
    "b=[-3,-2,0,1,2,3,49,100,200]\n",
    "print(recBinarySearch(b,-3))"
   ]
  }
 ],
 "metadata": {
  "kernelspec": {
   "display_name": "Python 3 (ipykernel)",
   "language": "python",
   "name": "python3"
  },
  "language_info": {
   "codemirror_mode": {
    "name": "ipython",
    "version": 3
   },
   "file_extension": ".py",
   "mimetype": "text/x-python",
   "name": "python",
   "nbconvert_exporter": "python",
   "pygments_lexer": "ipython3",
   "version": "3.9.13"
  }
 },
 "nbformat": 4,
 "nbformat_minor": 5
}
