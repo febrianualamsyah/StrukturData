{
 "cells": [
  {
   "cell_type": "code",
   "execution_count": 10,
   "id": "33650b05",
   "metadata": {},
   "outputs": [
    {
     "name": "stdout",
     "output_type": "stream",
     "text": [
      "Posisi Data = [2]\n",
      "Jumlah Iterasi 10\n"
     ]
    }
   ],
   "source": [
    "def sequential(listData,found):\n",
    "    list1 = []\n",
    "    key = 0\n",
    "    while key < len(listData) :\n",
    "        if found == listData[key] :\n",
    "            list1.append(key)\n",
    "            key += 1\n",
    "        else :\n",
    "            key += 1\n",
    "    if list1 == []:\n",
    "        list1 = \"Data Tidak Ditemukan\"\n",
    "    return list1,key\n",
    "\n",
    "a = [1,5,9,8,1,5,10,26,5,12]\n",
    "[hasil,jumlahIterasi] = sequential(a,9)\n",
    "print(\"Posisi Data =\",hasil)\n",
    "print(\"Jumlah Iterasi\",jumlahIterasi)"
   ]
  },
  {
   "cell_type": "code",
   "execution_count": 2,
   "id": "984f1362",
   "metadata": {},
   "outputs": [
    {
     "name": "stdout",
     "output_type": "stream",
     "text": [
      "Posisi Data = [2, 3]\n",
      "Jumlah Iterasi 5\n"
     ]
    }
   ],
   "source": [
    "def orderedSeq(listData,found):\n",
    "    list2 = []\n",
    "    kondisi = True\n",
    "    key = 0\n",
    "    while key < len(listData) and kondisi:\n",
    "        if found == listData[key] :\n",
    "            list2.append(key) \n",
    "        elif found < listData[key] :\n",
    "            kondisi = False\n",
    "        key += 1\n",
    "    if list2 == []:\n",
    "        list2 = \"Data Tidak Ada\"\n",
    "    return list2,key\n",
    "\n",
    "a = [1,1,5,5,5,8,9,10,12,26]\n",
    "[hasil,iterasi] = orderedSeq(a,5)\n",
    "print(\"Posisi Data =\",hasil)\n",
    "print(\"Jumlah Iterasi\",iterasi)"
   ]
  },
  {
   "cell_type": "code",
   "execution_count": 26,
   "id": "1593a173",
   "metadata": {},
   "outputs": [
    {
     "name": "stdout",
     "output_type": "stream",
     "text": [
      "Posisi Data = [2, 3]\n",
      "Jumlah Iterasi = 4\n"
     ]
    }
   ],
   "source": [
    "def binSearch(listData,found):\n",
    "    pertama = 0\n",
    "    terakhir = len(listData) - 1\n",
    "    list3 = []\n",
    "    kondisi = True\n",
    "    key = 0\n",
    "    while pertama <= terakhir and kondisi :\n",
    "        midd = (pertama + terakhir) // 2\n",
    "        if found == listData[midd] :\n",
    "            list3.append(midd)\n",
    "            if (midd+1) == len(listData) :\n",
    "                kondisi = False\n",
    "            elif found == listData[midd+1]:\n",
    "                pertama = midd+1\n",
    "            elif found == listData[midd-1]:\n",
    "                terakhir = midd-1\n",
    "            else :\n",
    "                kondisi = False\n",
    "        elif found < listData[midd] :\n",
    "            terakhir = midd-1\n",
    "        else :\n",
    "            pertama = midd+1\n",
    "        key += 1\n",
    "    if list3 == [] :\n",
    "        list3 = \"Data Tidak Ada\"\n",
    "    return list3,key\n",
    "\n",
    "a = [1,1,5,5,8,9,5,12,26]\n",
    "[hasil,iterasi] = binSearch(a,5)\n",
    "print(\"Posisi Data =\",hasil)\n",
    "print(\"Jumlah Iterasi =\",iterasi)"
   ]
  }
 ],
 "metadata": {
  "kernelspec": {
   "display_name": "Python 3 (ipykernel)",
   "language": "python",
   "name": "python3"
  },
  "language_info": {
   "codemirror_mode": {
    "name": "ipython",
    "version": 3
   },
   "file_extension": ".py",
   "mimetype": "text/x-python",
   "name": "python",
   "nbconvert_exporter": "python",
   "pygments_lexer": "ipython3",
   "version": "3.9.13"
  }
 },
 "nbformat": 4,
 "nbformat_minor": 5
}
