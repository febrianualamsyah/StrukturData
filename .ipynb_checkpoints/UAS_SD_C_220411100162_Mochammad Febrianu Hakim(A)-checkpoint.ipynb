{
 "cells": [
  {
   "cell_type": "code",
   "execution_count": null,
   "id": "9a48f9f3",
   "metadata": {},
   "outputs": [],
   "source": [
    "# Nama : Mochammaf Febrianu Hakim Alamsyah\n",
    "# NIM : 220411100162\n",
    "# Kelas : Struktur Data IF 2C"
   ]
  },
  {
   "cell_type": "code",
   "execution_count": 8,
   "id": "8d9e484b",
   "metadata": {},
   "outputs": [
    {
     "name": "stdout",
     "output_type": "stream",
     "text": [
      "Posisi Data = [5, 6, 7]\n",
      "Jumlah Iterasi 9\n",
      "=============================\n",
      "Posisi Data = Data Tidak Ada\n",
      "Jumlah Iterasi 1\n"
     ]
    }
   ],
   "source": [
    "#found = data yang akan dicari\n",
    "#listData = listdata yang dicari\n",
    "def orderedSeq(listData,found): \n",
    "    list2 = []\n",
    "    kondisi = True\n",
    "    key = 0\n",
    "    while key < len(listData) and kondisi:\n",
    "        if found == listData[key] :\n",
    "            list2.append(key) \n",
    "        elif found < listData[key] :\n",
    "            kondisi = False\n",
    "        key += 1\n",
    "    if list2 == []:\n",
    "        list2 = \"Data Tidak Ada\"\n",
    "    return list2,key\n",
    "\n",
    "#Pengerjaan jika data ditemukan dan menampilkan jumlah iterasi\n",
    "\n",
    "a = [1,1,2,3,5,8,8,8,9,10,4,12,26]\n",
    "[hasil,iterasi] = orderedSeq(a,8)\n",
    "print(\"Posisi Data =\",hasil)\n",
    "print(\"Jumlah Iterasi\",iterasi)\n",
    "\n",
    "print(\"=============================\")\n",
    "\n",
    "#Pengerjaan jika data yang tidak ditemukan dan menampilkan jumlah iterasi\n",
    "\n",
    "[hasil,iterasi] = orderedSeq(a,-1)\n",
    "print(\"Posisi Data =\",hasil)\n",
    "print(\"Jumlah Iterasi\",iterasi)"
   ]
  }
 ],
 "metadata": {
  "kernelspec": {
   "display_name": "Python 3 (ipykernel)",
   "language": "python",
   "name": "python3"
  },
  "language_info": {
   "codemirror_mode": {
    "name": "ipython",
    "version": 3
   },
   "file_extension": ".py",
   "mimetype": "text/x-python",
   "name": "python",
   "nbconvert_exporter": "python",
   "pygments_lexer": "ipython3",
   "version": "3.9.13"
  }
 },
 "nbformat": 4,
 "nbformat_minor": 5
}
