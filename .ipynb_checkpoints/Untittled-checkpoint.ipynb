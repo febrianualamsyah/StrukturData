{
 "cells": [
  {
   "cell_type": "code",
   "execution_count": 1,
   "id": "583b9422",
   "metadata": {},
   "outputs": [
    {
     "name": "stdout",
     "output_type": "stream",
     "text": [
      "21\n"
     ]
    }
   ],
   "source": [
    "def sumRecursive(dataList):\n",
    "  if len(dataList) == 1:\n",
    "    return dataList[0]\n",
    "  else:\n",
    "    return dataList[0] + sumRecursive(dataList[1:])\n",
    "\n",
    "data = [1,2,3,4,5,6]\n",
    "print(sumRecursive(data))"
   ]
  },
  {
   "cell_type": "code",
   "execution_count": 3,
   "id": "d5a35ed4",
   "metadata": {},
   "outputs": [],
   "source": [
    "class Node:\n",
    "    def __init__(self,name,time):\n",
    "        self.name = name\n",
    "        self.next = None\n",
    "        self.time = time\n",
    "    def getName(self):\n",
    "        return self.name\n",
    "    def getNext(self):\n",
    "        return self.next\n",
    "    def getTime(self):\n",
    "        return self.time\n",
    "    def setIName(self,newValue):\n",
    "        self.name = newValue\n",
    "    def setNext(self,newNode):\n",
    "        self.next = newNode\n",
    "    def setTime(self,time):\n",
    "        self.time = time\n",
    "       "
   ]
  },
  {
   "cell_type": "code",
   "execution_count": 4,
   "id": "2e48a3c0",
   "metadata": {},
   "outputs": [],
   "source": [
    "class Queue:\n",
    "    def __init__(self):\n",
    "        self.head = None\n",
    "        \n",
    "    def isEmpty(self):\n",
    "        return self.head == None\n",
    "\n",
    "    def enqueue(self,name,time): \n",
    "        newNode = Node(name,time)\n",
    "        newNode.next = self.head\n",
    "        self.head = newNode \n",
    "      \n",
    "    def size(self):\n",
    "        current = self.head\n",
    "        count = 0\n",
    "        while current != None :\n",
    "            count+=1\n",
    "            current = current.getNext()\n",
    "        return count\n",
    "    \n",
    "    def display(self):\n",
    "        current = self.head \n",
    "        temp = \"\"\n",
    "        while current != None :\n",
    "            temp = \"['\"+current.getName()+\"',\"+str(current.getTime()) + \"]\" + temp\n",
    "            current = current.getNext()\n",
    "        return temp\n",
    "    \n",
    "    def addRear(self,name,time):\n",
    "        newNode = Node(name,time)\n",
    "        if self.head == None :\n",
    "            self.head = newNode\n",
    "        else:\n",
    "            current = self.head\n",
    "            while current.getNext() != None: \n",
    "                current  = current.getNext()\n",
    "            current.next = newNode\n",
    "    \n",
    "    def dequeue(self):\n",
    "        if self.head.next == None :\n",
    "            temp = self.head\n",
    "            self.head = None\n",
    "            return temp\n",
    "        else:\n",
    "            current = self.head\n",
    "            while current.getNext() != None:\n",
    "                prev = current\n",
    "                current  = current.getNext()\n",
    "            temp = current\n",
    "            prev.next = None\n",
    "        return temp\n",
    "\n",
    "\n",
    "def inputQueue(numOfTask):\n",
    "    task = Queue()\n",
    "    for i in range(numOfTask):\n",
    "        nama = input(\"Nama Proses = \")\n",
    "        waktu = int(input('Waktu Proses  = '))\n",
    "        task.enqueue(nama,waktu)\n",
    "    return task"
   ]
  },
  {
   "cell_type": "code",
   "execution_count": 7,
   "id": "fd7bdd09",
   "metadata": {},
   "outputs": [
    {
     "name": "stdout",
     "output_type": "stream",
     "text": [
      "Nama Proses = A\n",
      "Waktu Proses  = 5\n",
      "Nama Proses = B\n",
      "Waktu Proses  = 7\n",
      "Nama Proses = C\n",
      "Waktu Proses  = 2\n",
      "Nama Proses = D\n",
      "Waktu Proses  = 2\n",
      "Nama Proses = E\n",
      "Waktu Proses  = 3\n",
      "Nama Proses = F\n",
      "Waktu Proses  = 1\n"
     ]
    }
   ],
   "source": [
    "QueueR1 = inputQueue(6)"
   ]
  },
  {
   "cell_type": "code",
   "execution_count": 6,
   "id": "65787238",
   "metadata": {},
   "outputs": [
    {
     "data": {
      "text/plain": [
       "\"['input queue',1]['A',3]['4',3]['4',5]['6',7]['',89]\""
      ]
     },
     "execution_count": 6,
     "metadata": {},
     "output_type": "execute_result"
    }
   ],
   "source": [
    "QueueR1.display()"
   ]
  },
  {
   "cell_type": "code",
   "execution_count": 22,
   "id": "59c0d7fb",
   "metadata": {},
   "outputs": [],
   "source": [
    "def scheduling(task,limitTime):\n",
    "    taskQueue = task\n",
    "    total = 0\n",
    "    \n",
    "    while not taskQueue.isEmpty():\n",
    "        print(taskQueue.display(),'  Total waktu CPU : ',total)    \n",
    "        temp = taskQueue.dequeue()\n",
    "        waktuTunggu = temp.getTime() - limitTime\n",
    "        \n",
    "        if waktuTunggu > 0 :\n",
    "            taskQueue.enqueue(temp.getName(),waktuTunggu)\n",
    "            prosTime = limitTime\n",
    "        else:\n",
    "            prosTime = temp.getTime()\n",
    "            waktuTunggu = 0   \n",
    "\n",
    "        temp.time = waktuTunggu\n",
    "        total += prosTime\n",
    "        \n",
    "        \n",
    "    print(\"Total waktu yang dibutuhkan CPU\",total)"
   ]
  },
  {
   "cell_type": "code",
   "execution_count": 23,
   "id": "a49ebbee",
   "metadata": {},
   "outputs": [
    {
     "name": "stdout",
     "output_type": "stream",
     "text": [
      "['A',8]['B',5]['C',1]['E',5]['G',6]['W',9]   Total waktu CPU :  0\n",
      "['B',5]['C',1]['E',5]['G',6]['W',9]['A',6]   Total waktu CPU :  2\n",
      "['C',1]['E',5]['G',6]['W',9]['A',6]['B',3]   Total waktu CPU :  4\n",
      "['E',5]['G',6]['W',9]['A',6]['B',3]   Total waktu CPU :  5\n",
      "['G',6]['W',9]['A',6]['B',3]['E',3]   Total waktu CPU :  7\n",
      "['W',9]['A',6]['B',3]['E',3]['G',4]   Total waktu CPU :  9\n",
      "['A',6]['B',3]['E',3]['G',4]['W',7]   Total waktu CPU :  11\n",
      "['B',3]['E',3]['G',4]['W',7]['A',4]   Total waktu CPU :  13\n",
      "['E',3]['G',4]['W',7]['A',4]['B',1]   Total waktu CPU :  15\n",
      "['G',4]['W',7]['A',4]['B',1]['E',1]   Total waktu CPU :  17\n",
      "['W',7]['A',4]['B',1]['E',1]['G',2]   Total waktu CPU :  19\n",
      "['A',4]['B',1]['E',1]['G',2]['W',5]   Total waktu CPU :  21\n",
      "['B',1]['E',1]['G',2]['W',5]['A',2]   Total waktu CPU :  23\n",
      "['E',1]['G',2]['W',5]['A',2]   Total waktu CPU :  24\n",
      "['G',2]['W',5]['A',2]   Total waktu CPU :  25\n",
      "['W',5]['A',2]   Total waktu CPU :  27\n",
      "['A',2]['W',3]   Total waktu CPU :  29\n",
      "['W',3]   Total waktu CPU :  31\n",
      "['W',1]   Total waktu CPU :  33\n",
      "Total waktu yang dibutuhkan CPU 34\n"
     ]
    }
   ],
   "source": [
    "scheduling(QueueR1,2)"
   ]
  }
 ],
 "metadata": {
  "kernelspec": {
   "display_name": "Python 3 (ipykernel)",
   "language": "python",
   "name": "python3"
  },
  "language_info": {
   "codemirror_mode": {
    "name": "ipython",
    "version": 3
   },
   "file_extension": ".py",
   "mimetype": "text/x-python",
   "name": "python",
   "nbconvert_exporter": "python",
   "pygments_lexer": "ipython3",
   "version": "3.9.13"
  }
 },
 "nbformat": 4,
 "nbformat_minor": 5
}
