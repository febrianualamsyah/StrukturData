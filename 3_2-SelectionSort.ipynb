{
 "cells": [
  {
   "cell_type": "code",
   "execution_count": 34,
   "id": "dd750553",
   "metadata": {},
   "outputs": [
    {
     "name": "stdout",
     "output_type": "stream",
     "text": [
      "[11, 5, 7, 13, 2, 8]\n",
      "11  >  5\n",
      "5  >  7\n",
      "5  >  13\n",
      "5  >  2\n",
      "2  >  8\n",
      "2 index ke 4\n",
      "[2, 5, 7, 13, 11, 8]\n",
      "\n",
      "5  >  7\n",
      "5  >  13\n",
      "5  >  11\n",
      "5  >  8\n",
      "5 index ke 1\n",
      "[2, 5, 7, 13, 11, 8]\n",
      "\n",
      "7  >  13\n",
      "7  >  11\n",
      "7  >  8\n",
      "7 index ke 2\n",
      "[2, 5, 7, 13, 11, 8]\n",
      "\n",
      "7  >  13\n",
      "7  >  11\n",
      "7  >  8\n",
      "7 index ke 2\n",
      "[2, 5, 7, 13, 11, 8]\n",
      "\n"
     ]
    }
   ],
   "source": [
    "a = [11,5,7,13,2,8]\n",
    "print(a)\n",
    "minData = a[0]\n",
    "idx=0\n",
    "for i in range(1,len(a)):\n",
    "    print(minData,' > ',a[i])\n",
    "    if minData > a[i]:\n",
    "        minData=a[i]\n",
    "        idx = i\n",
    "print(minData,\"index ke\",idx)\n",
    "a[idx]=a[0]\n",
    "a[0]=minData\n",
    "print(a)\n",
    "print('')\n",
    "\n",
    "minData = a[1]\n",
    "idx=1\n",
    "for i in range(2,len(a)):\n",
    "    print(minData,' > ',a[i])\n",
    "    \n",
    "    if minData > a[i]:\n",
    "        minData=a[i]\n",
    "        idx = i\n",
    "print(minData,\"index ke\",idx)\n",
    "a[idx]=a[1]\n",
    "a[1]=minData\n",
    "print(a)\n",
    "print('')\n",
    "\n",
    "minData = a[2]\n",
    "idx=2\n",
    "for i in range(3,len(a)):\n",
    "    print(minData,' > ',a[i])\n",
    "    \n",
    "    if minData > a[i]:\n",
    "        minData=a[i]\n",
    "        idx = i\n",
    "print(minData,\"index ke\",idx)\n",
    "a[idx]=a[2]\n",
    "a[2]=minData\n",
    "print(a)\n",
    "print('')\n",
    "\n",
    "\n",
    "start = 2\n",
    "minData = a[start]\n",
    "idx=start\n",
    "for i in range(start+1,len(a)):\n",
    "    print(minData,' > ',a[i])\n",
    "    \n",
    "    if minData > a[i]:\n",
    "        minData=a[i]\n",
    "        idx = i\n",
    "print(minData,\"index ke\",idx)\n",
    "a[idx]=a[start]\n",
    "a[start]=minData\n",
    "print(a)\n",
    "print('')"
   ]
  },
  {
   "cell_type": "code",
   "execution_count": 40,
   "id": "8ba11436",
   "metadata": {},
   "outputs": [
    {
     "name": "stdout",
     "output_type": "stream",
     "text": [
      "[11, 5, 7, 13, 2, 8]\n",
      "2 index ke 4\n",
      "[2, 5, 7, 13, 11, 8]\n",
      "\n",
      "5 index ke 1\n",
      "[2, 5, 7, 13, 11, 8]\n",
      "\n",
      "7 index ke 2\n",
      "[2, 5, 7, 13, 11, 8]\n",
      "\n",
      "8 index ke 5\n",
      "[2, 5, 7, 8, 11, 13]\n",
      "\n",
      "11 index ke 4\n",
      "[2, 5, 7, 8, 11, 13]\n",
      "\n"
     ]
    }
   ],
   "source": [
    "# assending min di depan\n",
    "a = [11,5,7,13,2,8]\n",
    "print(a)\n",
    "for start in range(len(a)-1):\n",
    "    minData = a[start]\n",
    "    idx=start\n",
    "    for i in range(start+1,len(a)):\n",
    "#         print(minData,' > ',a[i])\n",
    "\n",
    "        if minData > a[i]:\n",
    "            minData=a[i]\n",
    "            idx = i\n",
    "    print(minData,\"index ke\",idx)\n",
    "    a[idx]=a[start]\n",
    "    a[start]=minData\n",
    "    print(a)\n",
    "    print('')"
   ]
  },
  {
   "cell_type": "code",
   "execution_count": 18,
   "id": "373bbc8b",
   "metadata": {},
   "outputs": [
    {
     "name": "stdout",
     "output_type": "stream",
     "text": [
      "iterasi -  0\n",
      "[8, 3, 0, 11, 4, 1]\n",
      "8 < 3\n",
      "8 < 0\n",
      "8 < 11\n",
      "11 < 4\n",
      "11 < 1\n",
      "Nilai maks =  11 indeks- 3\n",
      "Swappig antara data ke- 3 dengan Data ke- 5\n",
      "[8, 3, 0, 1, 4, 11]\n",
      "\n",
      "iterasi -  1\n",
      "[8, 3, 0, 1, 4, 11]\n",
      "8 < 3\n",
      "8 < 0\n",
      "8 < 1\n",
      "8 < 4\n",
      "Nilai maks =  8 indeks- 0\n",
      "Swappig antara data ke- 0 dengan Data ke- 5\n",
      "[4, 3, 0, 1, 8, 11]\n",
      "\n",
      "iterasi -  2\n",
      "[4, 3, 0, 1, 8, 11]\n",
      "4 < 3\n",
      "4 < 0\n",
      "4 < 1\n",
      "Nilai maks =  4 indeks- 0\n",
      "Swappig antara data ke- 0 dengan Data ke- 5\n",
      "[1, 3, 0, 4, 8, 11]\n",
      "\n",
      "iterasi -  3\n",
      "[1, 3, 0, 4, 8, 11]\n",
      "1 < 3\n",
      "3 < 0\n",
      "Nilai maks =  3 indeks- 1\n",
      "Swappig antara data ke- 1 dengan Data ke- 5\n",
      "[1, 0, 3, 4, 8, 11]\n",
      "\n",
      "iterasi -  4\n",
      "[1, 0, 3, 4, 8, 11]\n",
      "1 < 0\n",
      "Nilai maks =  1 indeks- 0\n",
      "Swappig antara data ke- 0 dengan Data ke- 5\n",
      "[0, 1, 3, 4, 8, 11]\n",
      "\n"
     ]
    }
   ],
   "source": [
    "#assending maks di depan\n",
    "data = [8,3,0,11,4,1]\n",
    "for iterasi in range(len(data)-1):\n",
    "    print('iterasi - ',iterasi)\n",
    "    maks = data[0]\n",
    "    idMaks = 0\n",
    "    print(data)\n",
    "    for i in range(1,len(data)-iterasi):\n",
    "        print(maks,'<',data[i])\n",
    "        if maks < data[i]:\n",
    "            maks = data[i]\n",
    "            idMaks = i\n",
    "    print('Nilai maks = ',maks,'indeks-',idMaks)\n",
    "    print('Swappig antara data ke-',idMaks,'dengan Data ke-',len(data)-1)\n",
    "    data[idMaks] = data[len(data)-(iterasi+1)]\n",
    "    data[len(data)-(iterasi+1)]=maks\n",
    "    print(data)\n",
    "    print('')\n"
   ]
  },
  {
   "cell_type": "code",
   "execution_count": 10,
   "id": "7b5aa749",
   "metadata": {},
   "outputs": [
    {
     "name": "stdout",
     "output_type": "stream",
     "text": [
      "5 => [8, 3, 0, 1, 4, 11]\n",
      "4 => [4, 3, 0, 1, 8, 11]\n",
      "3 => [1, 3, 0, 4, 8, 11]\n",
      "2 => [1, 0, 3, 4, 8, 11]\n",
      "1 => [0, 1, 3, 4, 8, 11]\n"
     ]
    }
   ],
   "source": [
    "# assending max di belakang\n",
    "def selectionSortMax(lst):\n",
    "    for i in range(len(lst)-1,0,-1):\n",
    "        maxIdx=i\n",
    "        for j in range(i):\n",
    "            if lst[maxIdx] < lst[j]:\n",
    "                maxIdx=j\n",
    "        lst[maxIdx],lst[i]=lst[i],lst[maxIdx]\n",
    "        print(i,'=>',lst)\n",
    "selectionSortMax([8,3,0,11,4,1])"
   ]
  },
  {
   "cell_type": "code",
   "execution_count": 33,
   "id": "89f0c345",
   "metadata": {},
   "outputs": [
    {
     "name": "stdout",
     "output_type": "stream",
     "text": [
      "0 => [13, 5, 7, 11, 2, 8]\n",
      "1 => [13, 11, 7, 5, 2, 8]\n",
      "2 => [13, 11, 8, 5, 2, 7]\n",
      "3 => [13, 11, 8, 7, 2, 5]\n",
      "4 => [13, 11, 8, 7, 5, 2]\n"
     ]
    }
   ],
   "source": [
    "#decending max\n",
    "def selectionSort(arr):\n",
    "    for i in range(len(arr)-1):\n",
    "        maxIdx=i\n",
    "        for j in range(i+1,len(arr)):\n",
    "            if arr[maxIdx]<arr[j]:\n",
    "                maxIdx=j\n",
    "#         print(arr[maxIdx])\n",
    "        arr[i],arr[maxIdx]=arr[maxIdx],arr[i]\n",
    "        print(i,'=>',arr)\n",
    "selectionSort([11,5,7,13,2,8])"
   ]
  },
  {
   "cell_type": "code",
   "execution_count": 30,
   "id": "40b46c4a",
   "metadata": {},
   "outputs": [
    {
     "name": "stdout",
     "output_type": "stream",
     "text": [
      "5 => [11, 5, 7, 13, 8, 2]\n",
      "4 => [11, 8, 7, 13, 5, 2]\n",
      "3 => [11, 8, 13, 7, 5, 2]\n",
      "2 => [11, 13, 8, 7, 5, 2]\n",
      "1 => [13, 11, 8, 7, 5, 2]\n"
     ]
    }
   ],
   "source": [
    "# assending min\n",
    "def selectionSortMin(lst):\n",
    "    for i in range(len(lst)-1,0,-1):\n",
    "        minIdx=i\n",
    "        for j in range(i):\n",
    "            if lst[minIdx] > lst[j]:\n",
    "                minIdx=j\n",
    "        lst[minIdx],lst[i]=lst[i],lst[minIdx]\n",
    "        print(i,'=>',lst)\n",
    "selectionSortMin([11,5,7,13,2,8])"
   ]
  },
  {
   "cell_type": "code",
   "execution_count": 1,
   "id": "c8f60c01",
   "metadata": {},
   "outputs": [
    {
     "name": "stdout",
     "output_type": "stream",
     "text": [
      "0 1\n",
      "0 2\n",
      "0 3\n",
      "0 4\n",
      "0 5\n",
      "min [2, 6, 3, 9, 4, 1]\n",
      "5 4\n",
      "5 3\n",
      "5 2\n",
      "5 1\n",
      "5 0\n",
      "max [1, 6, 3, 9, 4, 2]\n",
      "1 2\n",
      "2 3\n",
      "2 4\n",
      "2 5\n",
      "min [1, 6, 3, 9, 4, 2]\n",
      "4 3\n",
      "4 2\n",
      "2 1\n",
      "2 0\n",
      "max [1, 6, 3, 9, 4, 2]\n",
      "2 3\n",
      "2 4\n",
      "2 5\n",
      "min [1, 6, 3, 9, 4, 2]\n",
      "3 2\n",
      "2 1\n",
      "2 0\n",
      "max [1, 6, 3, 9, 4, 2]\n"
     ]
    }
   ],
   "source": [
    "data =[1,6,3,9,4,2]\n",
    "for i in range(len(data)//2):\n",
    "    minIdx=i\n",
    "    for j in range(i+1,len(data)):\n",
    "        print(minIdx,j)\n",
    "        if data[minIdx] > data[j]:\n",
    "            minIdx=j\n",
    "    data[minIdx],data[j]=data[j],data[minIdx]\n",
    "    print('min',data)\n",
    " \n",
    "    maxIdx=len(data)-i-1\n",
    "    for k in range(len(data)-i-1,0,-1):\n",
    "        print(maxIdx,k-1)\n",
    "        if data[maxIdx] > data[k-1]:\n",
    "            maxIdx=k-1\n",
    "    data[maxIdx],data[k-1]=data[k-1],data[maxIdx]\n",
    "    print('max',data)"
   ]
  },
  {
   "cell_type": "code",
   "execution_count": null,
   "id": "a067c437",
   "metadata": {},
   "outputs": [],
   "source": []
  }
 ],
 "metadata": {
  "kernelspec": {
   "display_name": "Python 3 (ipykernel)",
   "language": "python",
   "name": "python3"
  },
  "language_info": {
   "codemirror_mode": {
    "name": "ipython",
    "version": 3
   },
   "file_extension": ".py",
   "mimetype": "text/x-python",
   "name": "python",
   "nbconvert_exporter": "python",
   "pygments_lexer": "ipython3",
   "version": "3.9.13"
  }
 },
 "nbformat": 4,
 "nbformat_minor": 5
}
