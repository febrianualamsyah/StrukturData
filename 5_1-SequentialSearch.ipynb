{
 "cells": [
  {
   "cell_type": "code",
   "execution_count": 1,
   "id": "1da01723",
   "metadata": {},
   "outputs": [
    {
     "name": "stdout",
     "output_type": "stream",
     "text": [
      "True\n"
     ]
    }
   ],
   "source": [
    "data = [1,5,6,3,10]\n",
    "cari = 5\n",
    "found =False\n",
    "\n",
    "# for i in range(len(data)):\n",
    "#     if cari == data[i]:\n",
    "#         found = True\n",
    "# print(found)\n",
    "\n",
    "j =0\n",
    "cek = 1\n",
    "while cek != 0 and j < len(data):\n",
    "    \n",
    "    if cari == data[j]:\n",
    "        cek = 0\n",
    "        found = True\n",
    "    j+=1\n",
    "    \n",
    "print(found)"
   ]
  },
  {
   "cell_type": "code",
   "execution_count": 2,
   "id": "e52c66b2",
   "metadata": {},
   "outputs": [
    {
     "name": "stdout",
     "output_type": "stream",
     "text": [
      "[5, 7]\n"
     ]
    }
   ],
   "source": [
    "def modSeqSearch(data,cari):\n",
    "    position = []\n",
    "    for i in range(len(data)):\n",
    "        if data[i] == cari :\n",
    "            position.append(i)\n",
    "    return position\n",
    "\n",
    "data = [43,6,3,1,3,7,0,7]\n",
    "print(modSeqSearch(data,7))"
   ]
  },
  {
   "cell_type": "code",
   "execution_count": 3,
   "id": "a7c0ba5b",
   "metadata": {},
   "outputs": [
    {
     "name": "stdout",
     "output_type": "stream",
     "text": [
      "Index - 0\n",
      "Index - 1\n",
      "Index - 2\n",
      "Index - 3\n",
      "Index - 4\n",
      "Index - 5\n",
      "False\n"
     ]
    }
   ],
   "source": [
    "def orderSeqSearch(data,find):\n",
    "    i = 0\n",
    "    found = False\n",
    "    while  not found and i < len(data) and data[i] <= find:\n",
    "        print('Index -',i)\n",
    "        if data[i] == find :\n",
    "            found = True  \n",
    "        i+=1\n",
    "    return found \n",
    "\n",
    "b = [2,9,10,13,26,50]\n",
    "print(orderSeqSearch(b,100))"
   ]
  },
  {
   "cell_type": "code",
   "execution_count": 4,
   "id": "920e0654",
   "metadata": {},
   "outputs": [
    {
     "name": "stdout",
     "output_type": "stream",
     "text": [
      "index - 0\n",
      "index - 1\n",
      "index - 2\n",
      "index - 3\n",
      "index - 4\n",
      "index - 5\n",
      "index - 6\n",
      "False\n"
     ]
    }
   ],
   "source": [
    "data = [2,12,15,25,30,54,73]\n",
    "found = False\n",
    "i =0\n",
    "cari = 100\n",
    "stop = False\n",
    "while not found and not stop and i < len(data):\n",
    "    print('index -',i)\n",
    "    if cari == data[i]:\n",
    "        found =  True \n",
    "    if cari < data[i]:\n",
    "        stop = True \n",
    "    i+=1\n",
    "\n",
    "print(found)"
   ]
  },
  {
   "cell_type": "code",
   "execution_count": 25,
   "id": "d50d10f9",
   "metadata": {},
   "outputs": [
    {
     "name": "stdout",
     "output_type": "stream",
     "text": [
      "key di index ke False\n",
      "key di index ke 1\n"
     ]
    }
   ],
   "source": [
    "# UNORDERED \n",
    "a = [1,5,8,3,2]\n",
    "key = 6\n",
    "ind = False\n",
    "for i in range(len(a)):\n",
    "    if a[i] == key  :\n",
    "        ind == i\n",
    "        break\n",
    "\n",
    "print(f\"key di index ke {ind}\")\n",
    "\n",
    "# ORDERED\n",
    "b = [1,5,10,12]\n",
    "i=0\n",
    "key = 5\n",
    "stop = False\n",
    "while not stop and i < len(b):\n",
    "    if i == len(b)-1 or b[i] >= key :\n",
    "        stop = True\n",
    "    else:\n",
    "        i +=1\n",
    "    \n",
    "print(f\"key di index ke {i}\")"
   ]
  },
  {
   "cell_type": "code",
   "execution_count": 7,
   "id": "996f0383",
   "metadata": {},
   "outputs": [
    {
     "data": {
      "text/plain": [
       "True"
      ]
     },
     "execution_count": 7,
     "metadata": {},
     "output_type": "execute_result"
    }
   ],
   "source": [
    "def seqSearch(listData, data):\n",
    "    idx = 0\n",
    "    found = False\n",
    "    while idx < len(listData) and not found :\n",
    "        if listData[idx] == data:\n",
    "            found = True\n",
    "        else :\n",
    "            idx += 1\n",
    "    return found\n",
    "\n",
    "a = [12,5,9,8,1,10,26]\n",
    "seqSearch(a,12)"
   ]
  },
  {
   "cell_type": "code",
   "execution_count": 8,
   "id": "ad52e4cf",
   "metadata": {},
   "outputs": [
    {
     "data": {
      "text/plain": [
       "4"
      ]
     },
     "execution_count": 8,
     "metadata": {},
     "output_type": "execute_result"
    }
   ],
   "source": [
    "def sequSearch(listData,data):\n",
    "    idx = 0\n",
    "    found = 'Data tidak ada'\n",
    "    while idx < len(listData):\n",
    "        if listData[idx] ==   data:\n",
    "            return idx\n",
    "        idx+=1  \n",
    "    return found\n",
    "\n",
    "b = [12,5,9,8,1,10,26]\n",
    "sequSearch(b,1)"
   ]
  },
  {
   "cell_type": "code",
   "execution_count": 24,
   "id": "887e013c",
   "metadata": {},
   "outputs": [
    {
     "data": {
      "text/plain": [
       "[1, 5, 6, 9]"
      ]
     },
     "execution_count": 24,
     "metadata": {},
     "output_type": "execute_result"
    }
   ],
   "source": [
    "def modSeqSearch(listData,data):\n",
    "    hsl = []\n",
    "    for i in range(len(listData)):\n",
    "        if listData[i] == data :\n",
    "            hsl.append(i)\n",
    "    return hsl\n",
    "\n",
    "c=[1,2,5,4,7,2,2,8,9,2]\n",
    "modSeqSearch(c,2)"
   ]
  },
  {
   "cell_type": "code",
   "execution_count": 1,
   "id": "fdefae41",
   "metadata": {},
   "outputs": [],
   "source": [
    "#Modifikasi program sequential tersebut agar mengembalikan 'Data tidak ada' jika data tidak ditemukan dan mengembalikkan \n",
    "#index data jika data ditemukan\n",
    "def orderedSeqSearch(listData, data):\n",
    "    ind = 0\n",
    "    found = False\n",
    "    stop = False\n",
    "    position=[]\n",
    "    while ind < len(listData) and not found and not stop:\n",
    "        if listData[ind] == data:\n",
    "            found = True\n",
    "            position.append(ind)\n",
    "        else:\n",
    "            if listData[ind] > data:\n",
    "                stop = True\n",
    "            else:\n",
    "                ind = ind+1\n",
    "\n",
    "    if found:\n",
    "        return ind\n",
    "    else:\n",
    "        return ('Data tidak ada')"
   ]
  },
  {
   "cell_type": "code",
   "execution_count": 5,
   "id": "73ac7442",
   "metadata": {},
   "outputs": [
    {
     "name": "stdout",
     "output_type": "stream",
     "text": [
      "Data tidak ada\n"
     ]
    }
   ],
   "source": [
    "a=[4,2,7,12,7,3,1,9,10]\n",
    "ind=orderedSeqSearch(a,-1)\n",
    "print(ind)"
   ]
  },
  {
   "cell_type": "code",
   "execution_count": 22,
   "id": "1d1a2e12",
   "metadata": {},
   "outputs": [
    {
     "data": {
      "text/plain": [
       "'Data tidak ada'"
      ]
     },
     "execution_count": 22,
     "metadata": {},
     "output_type": "execute_result"
    }
   ],
   "source": [
    "#Modifikasi program sequential tersebut agar tetap meneruskan pencarian sampai data terakhir\n",
    "#dan kembalikan index data semua data yang ditemukan\n",
    "def orderedSequential(listData,data):\n",
    "    idx = 0\n",
    "    found = False\n",
    "    position =[]\n",
    "    while listData[idx] <= data:\n",
    "        if listData[idx] == data:\n",
    "            position.append(idx)\n",
    "            found = True\n",
    "        idx+=1\n",
    "    if found:\n",
    "        return position\n",
    "    else:\n",
    "        return 'Data tidak ada'\n",
    "    \n",
    "b=[1,1,5,5,5,8,9,10,12,26]\n",
    "orderedSequential(b,-1)"
   ]
  }
 ],
 "metadata": {
  "kernelspec": {
   "display_name": "Python 3 (ipykernel)",
   "language": "python",
   "name": "python3"
  },
  "language_info": {
   "codemirror_mode": {
    "name": "ipython",
    "version": 3
   },
   "file_extension": ".py",
   "mimetype": "text/x-python",
   "name": "python",
   "nbconvert_exporter": "python",
   "pygments_lexer": "ipython3",
   "version": "3.9.13"
  }
 },
 "nbformat": 4,
 "nbformat_minor": 5
}
