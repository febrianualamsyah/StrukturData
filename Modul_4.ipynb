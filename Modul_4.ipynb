{
 "cells": [
  {
   "cell_type": "code",
   "execution_count": 20,
   "id": "2e99da69",
   "metadata": {},
   "outputs": [
    {
     "name": "stdout",
     "output_type": "stream",
     "text": [
      "Data =  [13, 12, 10, 8, 7, 5, 11, 2]\n",
      "Genap-Ganjil Sorting\n",
      "[12, 13, 8, 10, 5, 7, 2, 11]\n",
      "Ganjil-Genap Sorting\n",
      "[12, 8, 13, 5, 10, 2, 7, 11]\n",
      "Genap-Ganjil Sorting\n",
      "[8, 12, 5, 13, 2, 10, 7, 11]\n",
      "Ganjil-Genap Sorting\n",
      "[8, 5, 12, 2, 13, 7, 10, 11]\n",
      "Genap-Ganjil Sorting\n",
      "[5, 8, 2, 12, 7, 13, 10, 11]\n",
      "Ganjil-Genap Sorting\n",
      "[5, 2, 8, 7, 12, 10, 13, 11]\n",
      "Genap-Ganjil Sorting\n",
      "[2, 5, 7, 8, 10, 12, 11, 13]\n",
      "Ganjil-Genap Sorting\n",
      "[2, 5, 7, 8, 10, 11, 12, 13]\n"
     ]
    }
   ],
   "source": [
    "def bubblesort(mat):\n",
    "    a = len(mat)\n",
    "    kondisi = True\n",
    "    count = 0 \n",
    "    print('Data = ',mat)\n",
    "    while kondisi:\n",
    "        kondisi = False\n",
    "        for i in range(a-1):\n",
    "            if mat[i] > mat[i+1]:\n",
    "                kondisi = True\n",
    "        if kondisi:\n",
    "            if count % 2 == 0:\n",
    "                print('Genap-Ganjil Sorting')\n",
    "                for i in range(0,a-1,2):\n",
    "                    if mat[i] > mat[i+1]:\n",
    "                        mat[i], mat[i+1] = mat[i+1],mat[i]\n",
    "                print(mat)\n",
    "            else :\n",
    "                print('Ganjil-Genap Sorting')\n",
    "                for i in range(1,a-1,2):\n",
    "                    if mat[i] > mat[i+1]:\n",
    "                        mat[i],mat[i+1] = mat[i+1],mat[i]\n",
    "                print(mat)\n",
    "        count+=1\n",
    "list = [13,12,10,8,7,5,11,2]\n",
    "data = bubblesort(list)\n"
   ]
  },
  {
   "cell_type": "code",
   "execution_count": 2,
   "id": "44e179cc",
   "metadata": {},
   "outputs": [
    {
     "name": "stdout",
     "output_type": "stream",
     "text": [
      "Algoritma Modifikasi Selection Sort\n",
      "Data Awal =  [10, 2, 5, 8, 1, 20, 7, 12, 4]\n",
      "Iterasi ke -  1\n",
      "Urut data minimal  :  [1, 2, 5, 8, 10, 20, 7, 12, 4]\n",
      "Urut data maksimal :  [1, 2, 5, 8, 10, 4, 7, 12, 20]\n",
      "Iterasi ke -  2\n",
      "Urut data minimal  :  [1, 2, 5, 8, 10, 4, 7, 12, 20]\n",
      "Urut data maksimal :  [1, 2, 5, 8, 10, 4, 7, 12, 20]\n",
      "Iterasi ke -  3\n",
      "Urut data minimal  :  [1, 2, 4, 8, 10, 5, 7, 12, 20]\n",
      "Urut data maksimal :  [1, 2, 4, 8, 7, 5, 10, 12, 20]\n",
      "Iterasi ke -  4\n",
      "Urut data minimal  :  [1, 2, 4, 5, 7, 8, 10, 12, 20]\n",
      "Urut data maksimal :  [1, 2, 4, 5, 7, 8, 10, 12, 20]\n",
      "Data Urut =  [1, 2, 4, 5, 7, 8, 10, 12, 20]\n"
     ]
    }
   ],
   "source": [
    "def selection_min_max(data) :\n",
    "    print('Data Awal = ',data)\n",
    "    count = 0\n",
    "    a = len(data)\n",
    "    while count < len(data)//2 :\n",
    "        print('Iterasi ke - ',count+1)\n",
    "        index = count\n",
    "        for j in range(count+1,len(data)) :\n",
    "            if data[index] > data[j] :\n",
    "                index = j\n",
    "        data[count],data[index]=data[index],data[count]\n",
    "        print('Urut data minimal  : ',data)\n",
    "        index = a - 1\n",
    "        for k in range(a-2,count,-1) : \n",
    "            if data[index] < data[k] :\n",
    "                index = k\n",
    "        data[a-1],data[index] = data[index],data[a-1]\n",
    "        a-=1\n",
    "        count += 1\n",
    "        print('Urut data maksimal : ',data)\n",
    "    return data\n",
    "\n",
    "print('Algoritma Modifikasi Selection Sort')\n",
    "array= [10,2,5,8,1,20,7,12,4]\n",
    "y = selection_min_max(array)\n",
    "print('Data Urut = ',y)"
   ]
  }
 ],
 "metadata": {
  "kernelspec": {
   "display_name": "Python 3 (ipykernel)",
   "language": "python",
   "name": "python3"
  },
  "language_info": {
   "codemirror_mode": {
    "name": "ipython",
    "version": 3
   },
   "file_extension": ".py",
   "mimetype": "text/x-python",
   "name": "python",
   "nbconvert_exporter": "python",
   "pygments_lexer": "ipython3",
   "version": "3.9.13"
  }
 },
 "nbformat": 4,
 "nbformat_minor": 5
}
