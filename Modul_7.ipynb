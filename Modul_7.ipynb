{
 "cells": [
  {
   "cell_type": "code",
   "execution_count": 5,
   "id": "3004617f",
   "metadata": {},
   "outputs": [
    {
     "name": "stdout",
     "output_type": "stream",
     "text": [
      "5\n"
     ]
    }
   ],
   "source": [
    "#Remainder Function\n",
    "def remainderFunction(data, modulo): #data = data yang dimaksukkan ke dalam has table modulus = bilangan modulo\n",
    "    return (data%modulo)\n",
    "slot = remainderFunction(55, 10)\n",
    "print(slot)"
   ]
  },
  {
   "cell_type": "code",
   "execution_count": 4,
   "id": "23227580",
   "metadata": {},
   "outputs": [],
   "source": [
    "#Function CreateHashTable\n",
    "def createHashTable(modulo):\n",
    "    list1 = []\n",
    "    for i in range(modulo):\n",
    "        list1.append([None])\n",
    "    return(list1) \n",
    "# print(hashTable)"
   ]
  },
  {
   "cell_type": "code",
   "execution_count": 3,
   "id": "11d6afec",
   "metadata": {},
   "outputs": [],
   "source": [
    "#Function putData\n",
    "def putData(data, table):\n",
    "    for i in range(len(data)):\n",
    "        ind = remainderFunction(data[i], len(table))\n",
    "        if table[ind][0] == None :\n",
    "            table[ind][0] = data[i]\n",
    "        else :\n",
    "            table[ind].append(data[i])\n",
    "    return table"
   ]
  },
  {
   "cell_type": "code",
   "execution_count": 2,
   "id": "cd45b3fa",
   "metadata": {},
   "outputs": [],
   "source": [
    "#Function searchHash\n",
    "def searchHash(data, table):\n",
    "    hashVsl = remainderFunction(data, len(table))\n",
    "    if table[hashVsl] != [None]:\n",
    "        for i in range(len(table[hashVsl])):\n",
    "            if table[hashVsl][i] == data:\n",
    "                return f\"data berada di slot ke-, {hashVsl} dan index ke-, {i}\"\n",
    "    return False "
   ]
  },
  {
   "cell_type": "code",
   "execution_count": 7,
   "id": "3088326f",
   "metadata": {},
   "outputs": [
    {
     "name": "stdout",
     "output_type": "stream",
     "text": [
      "[[77, 44, 55], [None], [None], [None], [26], [93], [17], [None], [None], [31, 20], [54]]\n"
     ]
    },
    {
     "data": {
      "text/plain": [
       "'data berada di slot ke-, 0 dan index ke-, 2'"
      ]
     },
     "execution_count": 7,
     "metadata": {},
     "output_type": "execute_result"
    }
   ],
   "source": [
    "a = [54, 26, 93, 17, 77, 31, 44, 55, 20]\n",
    "hashTable = createHashTable(11)\n",
    "b = putData(a, hashTable)\n",
    "print(b)\n",
    "# searchHash(66, hashTable)\n",
    "# searchHash(54, hashTable)\n",
    "# searchHash(20, hashTable)\n",
    "# searchHash(55, hashTable)\n",
    "searchHash(55, hashTable)"
   ]
  }
 ],
 "metadata": {
  "kernelspec": {
   "display_name": "Python 3 (ipykernel)",
   "language": "python",
   "name": "python3"
  },
  "language_info": {
   "codemirror_mode": {
    "name": "ipython",
    "version": 3
   },
   "file_extension": ".py",
   "mimetype": "text/x-python",
   "name": "python",
   "nbconvert_exporter": "python",
   "pygments_lexer": "ipython3",
   "version": "3.9.13"
  }
 },
 "nbformat": 4,
 "nbformat_minor": 5
}
