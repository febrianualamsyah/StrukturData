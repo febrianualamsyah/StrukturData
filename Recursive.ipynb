{
 "cells": [
  {
   "cell_type": "markdown",
   "id": "36f65966",
   "metadata": {},
   "source": [
    "# Fungsi"
   ]
  },
  {
   "cell_type": "code",
   "execution_count": 1,
   "id": "5709073f",
   "metadata": {},
   "outputs": [
    {
     "name": "stdout",
     "output_type": "stream",
     "text": [
      "8\n"
     ]
    }
   ],
   "source": [
    "def exponen(num,pangkat):\n",
    "    hasil = 1\n",
    "    for i in range(pangkat):\n",
    "        hasil*= num\n",
    "    return hasil\n",
    "\n",
    "print(exponen(2,3))"
   ]
  },
  {
   "cell_type": "code",
   "execution_count": 2,
   "id": "8cad0483",
   "metadata": {},
   "outputs": [
    {
     "name": "stdout",
     "output_type": "stream",
     "text": [
      "6\n"
     ]
    }
   ],
   "source": [
    "def hasilKali(num,banyak):\n",
    "    hasil = 0\n",
    "    for i in range(banyak):\n",
    "        hasil+= num\n",
    "    return hasil\n",
    "\n",
    "print(hasilKali(2,3))"
   ]
  },
  {
   "cell_type": "code",
   "execution_count": 3,
   "id": "13c68941",
   "metadata": {},
   "outputs": [
    {
     "name": "stdout",
     "output_type": "stream",
     "text": [
      "True\n"
     ]
    }
   ],
   "source": [
    "def palindrome(chr):\n",
    "    matched = True\n",
    "    \n",
    "    for i in range(len(chr)//2):\n",
    "        if chr[i] == chr[-(i+1)]:\n",
    "            matched = matched and True\n",
    "        else:\n",
    "            return False\n",
    "            \n",
    "    return matched\n",
    "    \n",
    "print(palindrome('kasur rusak'))"
   ]
  },
  {
   "cell_type": "code",
   "execution_count": 4,
   "id": "d72da590",
   "metadata": {},
   "outputs": [
    {
     "name": "stdout",
     "output_type": "stream",
     "text": [
      "20\n"
     ]
    }
   ],
   "source": [
    "def totalArit(data):\n",
    "    jml = 0\n",
    "    for i in data :\n",
    "        jml+=i\n",
    "    return jml\n",
    "print(totalArit([2,4,6,8]))"
   ]
  },
  {
   "cell_type": "code",
   "execution_count": 5,
   "id": "2d49a7b1",
   "metadata": {},
   "outputs": [
    {
     "name": "stdout",
     "output_type": "stream",
     "text": [
      "24\n"
     ]
    }
   ],
   "source": [
    "def faktorial(num):\n",
    "    hsl = 1\n",
    "    for i in range(num,0,-1):\n",
    "        hsl*=i\n",
    "    return hsl\n",
    "print(faktorial(4))"
   ]
  },
  {
   "cell_type": "markdown",
   "id": "0b9d661d",
   "metadata": {},
   "source": [
    "# Recrusive"
   ]
  },
  {
   "cell_type": "code",
   "execution_count": 6,
   "id": "89591429",
   "metadata": {},
   "outputs": [
    {
     "data": {
      "text/plain": [
       "256"
      ]
     },
     "execution_count": 6,
     "metadata": {},
     "output_type": "execute_result"
    }
   ],
   "source": [
    "def exponenRecursive(num,pangkat):\n",
    "    if pangkat==0:\n",
    "        return 1\n",
    "    else:\n",
    "        return num * exponenRecursive(num,pangkat-1)\n",
    "    \n",
    "exponenRecursive(2,8)"
   ]
  },
  {
   "cell_type": "code",
   "execution_count": 7,
   "id": "1953f901",
   "metadata": {},
   "outputs": [
    {
     "name": "stdout",
     "output_type": "stream",
     "text": [
      "24\n"
     ]
    }
   ],
   "source": [
    "def factorialRecrusive(bil):\n",
    "    if bil < 1 :\n",
    "        return 1 \n",
    "    else :\n",
    "        return bil * factorialRecrusive(bil-1)\n",
    "    \n",
    "data = factorialRecrusive(4)\n",
    "print(data)"
   ]
  },
  {
   "cell_type": "code",
   "execution_count": null,
   "id": "c5960fec",
   "metadata": {},
   "outputs": [],
   "source": [
    "4 * factorial(4-1)\n",
    "4 * (3 * factorial(3-1))\n",
    "4 * (3 * 2 * factorial(2-1))\n",
    "4 * (3 * 2 * 1 * factorial(1-1))\n",
    "4 * ()"
   ]
  },
  {
   "cell_type": "code",
   "execution_count": 8,
   "id": "db131a87",
   "metadata": {},
   "outputs": [
    {
     "data": {
      "text/plain": [
       "True"
      ]
     },
     "execution_count": 8,
     "metadata": {},
     "output_type": "execute_result"
    }
   ],
   "source": [
    "def palindromeRecursive(chr):\n",
    "    if len(chr) <= 1:\n",
    "#     if len(chr) == 0 or len(chr)==1:\n",
    "        return True \n",
    "    else:\n",
    "        return (chr[0] == chr[-1]) and palindromeRecursive(chr[1:-1])\n",
    "#         return (chr[0] == chr[-1]) and palindromeRecursive(chr[1:len(chr)-1])\n",
    "\n",
    "palindromeRecursive('katak')"
   ]
  },
  {
   "cell_type": "code",
   "execution_count": 9,
   "id": "8c0a6916",
   "metadata": {},
   "outputs": [
    {
     "data": {
      "text/plain": [
       "6"
      ]
     },
     "execution_count": 9,
     "metadata": {},
     "output_type": "execute_result"
    }
   ],
   "source": [
    "def triangularNumbers(n):\n",
    "    if n == 1 :\n",
    "        return 1\n",
    "    else:\n",
    "        return n + triangularNumbers(n-1)\n",
    "\n",
    "triangularNumbers(3)"
   ]
  },
  {
   "cell_type": "code",
   "execution_count": 2,
   "id": "dae6c4e4",
   "metadata": {},
   "outputs": [
    {
     "name": "stdout",
     "output_type": "stream",
     "text": [
      "<class 'int'> 2 <class 'int'> 1\n",
      "<class 'int'> 1 <class 'int'> 0\n"
     ]
    },
    {
     "data": {
      "text/plain": [
       "'101'"
      ]
     },
     "execution_count": 2,
     "metadata": {},
     "output_type": "execute_result"
    }
   ],
   "source": [
    "def convertDesimal(des,base):\n",
    "    chrBilangan = '0123456789ABCDEF'\n",
    "    if des < base :\n",
    "        return chrBilangan[des]\n",
    "    else:\n",
    "        temp = des // base\n",
    "        idx = des % base\n",
    "        print(type(temp),temp,type(idx),idx)\n",
    "        return convertDesimal(temp,base)+chrBilangan[idx]\n",
    "    \n",
    "convertDesimal(5,2)"
   ]
  },
  {
   "cell_type": "code",
   "execution_count": 8,
   "id": "cc5503a7",
   "metadata": {},
   "outputs": [
    {
     "name": "stdout",
     "output_type": "stream",
     "text": [
      "Pindahkan lempengan 1 dari B ke C\n",
      "Pindahkan lempengan 2 dari B ke A\n",
      "Pindahkan lempengan 1 dari C ke A\n",
      "Pindahkan lempengan 3 dari B ke C\n",
      "Pindahkan lempengan 1 dari A ke B\n",
      "Pindahkan lempengan 2 dari A ke C\n",
      "Pindahkan lempengan 1 dari B ke C\n"
     ]
    }
   ],
   "source": [
    "def towerOfHanoi(n,asal,bantuan,tujuan):\n",
    "    if n == 1 :\n",
    "        print('Pindahkan lempengan',n,'dari',asal,'ke',tujuan)\n",
    "    else:\n",
    "        towerOfHanoi(n-1,asal,tujuan,bantuan)\n",
    "        print('Pindahkan lempengan',n,'dari',asal,'ke',tujuan)\n",
    "        towerOfHanoi(n-1,bantuan,asal,tujuan)\n",
    "              \n",
    "towerOfHanoi(3,'B','A','C')"
   ]
  },
  {
   "cell_type": "code",
   "execution_count": 11,
   "id": "5bd8b87c",
   "metadata": {},
   "outputs": [
    {
     "name": "stdout",
     "output_type": "stream",
     "text": [
      "Piringan - 1 dari- A ke- B\n",
      "Piringan - 2 dari- A ke- C\n",
      "Piringan - 1 dari- B ke- C\n",
      "Piringan - 3 dari- A ke- B\n",
      "Piringan - 1 dari- C ke- A\n",
      "Piringan - 2 dari- C ke- B\n",
      "Piringan - 1 dari- A ke- B\n",
      "Piringan - 4 dari- A ke- C\n",
      "Piringan - 1 dari- B ke- C\n",
      "Piringan - 2 dari- B ke- A\n",
      "Piringan - 1 dari- C ke- A\n",
      "Piringan - 3 dari- B ke- C\n",
      "Piringan - 1 dari- A ke- B\n",
      "Piringan - 2 dari- A ke- C\n",
      "Piringan - 1 dari- B ke- C\n"
     ]
    }
   ],
   "source": [
    "def towers (n,awal,bantuan,tujuan):\n",
    "    if n == 1 :\n",
    "        print('Piringan - 1 dari-',awal,'ke-',tujuan)\n",
    "    else:\n",
    "        towers(n-1,awal,tujuan,bantuan)\n",
    "        print(\"Piringan -\",n,'dari-',awal,'ke-',tujuan)\n",
    "        towers(n-1,bantuan,awal,tujuan)\n",
    "        \n",
    "towers(4,'A','B','C')"
   ]
  },
  {
   "cell_type": "code",
   "execution_count": 12,
   "id": "c15419ca",
   "metadata": {},
   "outputs": [
    {
     "name": "stdout",
     "output_type": "stream",
     "text": [
      "Pemindahan 4 lempengan dari A ke C dengan menggunakan bantuan B\n",
      "A:\n",
      "|1|\n",
      "|2|\n",
      "|3|\n",
      "|4|\n",
      "B:\n",
      "C:\n",
      "Lempengan - 1 dari- A ke- B\n",
      "A:\n",
      "|2|\n",
      "|3|\n",
      "|4|\n",
      "B:\n",
      "|1|\n",
      "C:\n",
      "Lempengan - 2 dari- A ke- C\n",
      "A:\n",
      "|3|\n",
      "|4|\n",
      "B:\n",
      "|1|\n",
      "C:\n",
      "|2|\n",
      "Lempengan - 1 dari- B ke- C\n",
      "A:\n",
      "|3|\n",
      "|4|\n",
      "B:\n",
      "C:\n",
      "|1|\n",
      "|2|\n",
      "Lempengan - 3 dari- A ke- B\n",
      "A:\n",
      "|4|\n",
      "B:\n",
      "|3|\n",
      "C:\n",
      "|1|\n",
      "|2|\n",
      "Lempengan - 1 dari- C ke- A\n",
      "A:\n",
      "|1|\n",
      "|4|\n",
      "B:\n",
      "|3|\n",
      "C:\n",
      "|2|\n",
      "Lempengan - 2 dari- C ke- B\n",
      "A:\n",
      "|1|\n",
      "|4|\n",
      "B:\n",
      "|2|\n",
      "|3|\n",
      "C:\n",
      "Lempengan - 1 dari- A ke- B\n",
      "A:\n",
      "|4|\n",
      "B:\n",
      "|1|\n",
      "|2|\n",
      "|3|\n",
      "C:\n",
      "Lempengan - 4 dari- A ke- C\n",
      "A:\n",
      "B:\n",
      "|1|\n",
      "|2|\n",
      "|3|\n",
      "C:\n",
      "|4|\n",
      "Lempengan - 1 dari- B ke- C\n",
      "A:\n",
      "B:\n",
      "|2|\n",
      "|3|\n",
      "C:\n",
      "|1|\n",
      "|4|\n",
      "Lempengan - 2 dari- B ke- A\n",
      "A:\n",
      "|2|\n",
      "B:\n",
      "|3|\n",
      "C:\n",
      "|1|\n",
      "|4|\n",
      "Lempengan - 1 dari- C ke- A\n",
      "A:\n",
      "|1|\n",
      "|2|\n",
      "B:\n",
      "|3|\n",
      "C:\n",
      "|4|\n",
      "Lempengan - 3 dari- B ke- C\n",
      "A:\n",
      "|1|\n",
      "|2|\n",
      "B:\n",
      "C:\n",
      "|3|\n",
      "|4|\n",
      "Lempengan - 1 dari- A ke- B\n",
      "A:\n",
      "|2|\n",
      "B:\n",
      "|1|\n",
      "C:\n",
      "|3|\n",
      "|4|\n",
      "Lempengan - 2 dari- A ke- C\n",
      "A:\n",
      "B:\n",
      "|1|\n",
      "C:\n",
      "|2|\n",
      "|3|\n",
      "|4|\n",
      "Lempengan - 1 dari- B ke- C\n",
      "A:\n",
      "B:\n",
      "C:\n",
      "|1|\n",
      "|2|\n",
      "|3|\n",
      "|4|\n"
     ]
    }
   ],
   "source": [
    "def tampilanTowers(dic):\n",
    "    print('A:')\n",
    "    for i in dic['A']:\n",
    "        print(f'|{i}|')\n",
    "    print('B:')\n",
    "    for j in dic['B']:\n",
    "        print(f'|{j}|')\n",
    "    print('C:')\n",
    "    for k in dic['C']:\n",
    "        print(f'|{k}|')\n",
    "        \n",
    "def visualisasiTowers (n,awal,bantuan,tujuan,dic):\n",
    "    if n == 1 :\n",
    "        print('Lempengan - 1 dari-',awal,'ke-',tujuan)\n",
    "        dic[tujuan].insert(0,dic[awal].pop(0))\n",
    "        tampilanTowers(dic)\n",
    "    else :\n",
    "        visualisasiTowers(n-1,awal,tujuan,bantuan,dic)\n",
    "        print(\"Lempengan -\",n,'dari-',awal,'ke-',tujuan)\n",
    "        dic[tujuan].insert(0,dic[awal].pop(0))\n",
    "        tampilanTowers(dic)\n",
    "        visualisasiTowers(n-1,bantuan,awal,tujuan,dic)\n",
    "        \n",
    "n = 4      \n",
    "dic = {'A':[i for i in range(1,n+1)],'B':[],'C':[]}\n",
    "print('Pemindahan',n,'lempengan dari A ke C dengan menggunakan bantuan B')\n",
    "tampilanTowers(dic)\n",
    "visualisasiTowers(n,'A','B','C',dic)"
   ]
  },
  {
   "cell_type": "code",
   "execution_count": 7,
   "id": "db1733a5",
   "metadata": {},
   "outputs": [],
   "source": [
    "import turtle\n",
    "my_turtle = turtle.Turtle()\n",
    "my_win = turtle.Screen()\n",
    "\n",
    "def draw_spiral(my_turtle, line_len):\n",
    "    if line_len > 0:\n",
    "        my_turtle.forward(line_len)\n",
    "        my_turtle.right(90)\n",
    "        draw_spiral(my_turtle, line_len - 5)\n",
    "        \n",
    "draw_spiral(my_turtle, 90)\n",
    "my_win.exitonclick()"
   ]
  },
  {
   "cell_type": "code",
   "execution_count": 8,
   "id": "5180706a",
   "metadata": {},
   "outputs": [],
   "source": [
    "import turtle\n",
    "def tree(branch_len, t):\n",
    "    t.speed('slowest')\n",
    "    if branch_len > 5:\n",
    "        t.forward(branch_len)\n",
    "        t.right(20)\n",
    "        tree(branch_len - 15, t)\n",
    "        t.left(40)\n",
    "        tree(branch_len - 15, t)\n",
    "        t.right(20)\n",
    "        t.backward(branch_len)\n",
    "def main():\n",
    "    my_win = turtle.Screen()\n",
    "    t = turtle.Turtle()\n",
    "\n",
    "    t.shape(\"turtle\")\n",
    "    t.left(90)\n",
    "    t.up()\n",
    "    t.backward(100)\n",
    "    t.down()\n",
    "    t.color(\"green\")\n",
    "    tree(60, t)\n",
    "#     my_win.exitonclick()\n",
    "# main()"
   ]
  },
  {
   "cell_type": "code",
   "execution_count": null,
   "id": "6f5acc60",
   "metadata": {},
   "outputs": [],
   "source": [
    "import turtle\n",
    "def draw_triangle(points, color, my_turtle):\n",
    "    my_turtle.speed('slowest')\n",
    "    my_turtle.fillcolor(color)\n",
    "    my_turtle.up()\n",
    "    my_turtle.goto(points[0][0],points[0][1])\n",
    "    my_turtle.down()\n",
    "    my_turtle.begin_fill()\n",
    "    my_turtle.goto(points[1][0], points[1][1])\n",
    "    my_turtle.goto(points[2][0], points[2][1])\n",
    "    my_turtle.goto(points[0][0], points[0][1])\n",
    "    my_turtle.end_fill()\n",
    "def get_mid(p1, p2):\n",
    "    return ((p1[0] + p2[0]) / 2, (p1[1] + p2[1]) / 2)\n",
    "def sierpinski(points, degree, my_turtle):\n",
    "    color_map = [\"blue\", \"red\" , \"green\", \"white\" , \"yellow\" ,\"violet\" , \"orange\"]\n",
    "    draw_triangle(points, color_map[degree], my_turtle)\n",
    "    if degree > 0:\n",
    "        sierpinski([points[0],get_mid(points[0], points[1]), get_mid(points[0])])\n",
    "        sierpinski([points[1],get_mid(points[0], points[1]), get_mid(points[1])])\n",
    "        sierpinski([points[2],get_mid(points[2], points[1]), get_mid(points[0])])\n",
    "def main():\n",
    "    my_turtle = turtle.Turtle()\n",
    "    my_win = turtle.Screen()\n",
    "    my_points = [[-100, -50], [0, 100], [100, -50]]\n",
    "    sierpinski(my_points, 2, my_turtle)\n",
    "#     my_win.exitonclick()\n",
    "# main()"
   ]
  },
  {
   "cell_type": "code",
   "execution_count": null,
   "id": "756ed456",
   "metadata": {},
   "outputs": [],
   "source": [
    "import turtle\n",
    "\n",
    "def draw_triangle(points, color, my_turtle):\n",
    "    my_turtle.speed('fastest')\n",
    "    my_turtle.fillcolor(color)\n",
    "    my_turtle.up()\n",
    "    my_turtle.goto(points[0][0],points[0][1])\n",
    "    my_turtle.down()\n",
    "    my_turtle.begin_fill()\n",
    "    my_turtle.goto(points[1][0], points[1][1])\n",
    "    my_turtle.goto(points[2][0], points[2][1])\n",
    "    my_turtle.goto(points[0][0], points[0][1])\n",
    "    my_turtle.end_fill()\n",
    "\n",
    "def get_mid(p1, p2):\n",
    "    return ((p1[0] + p2[0]) / 2, (p1[1] + p2[1]) / 2)\n",
    "\n",
    "def sierpinski(points, degree, my_turtle):\n",
    "    color_map = [\"blue\", \"red\" , \"green\", \"white\" , \"yellow\" ,\"violet\" , \"orange\"]\n",
    "    draw_triangle(points, color_map[degree], my_turtle)\n",
    "    if degree > 0:\n",
    "        sierpinski([points[0],get_mid(points[0], points[1]), get_mid(points[0], points[2])], degree-1, my_turtle)\n",
    "        sierpinski([points[1],get_mid(points[1], points[0]), get_mid(points[1], points[2])], degree-1, my_turtle)\n",
    "        sierpinski([points[2],get_mid(points[2], points[0]), get_mid(points[2], points[1])], degree-1, my_turtle)\n",
    "\n",
    "def main():\n",
    "    my_turtle = turtle.Turtle()\n",
    "    my_win = turtle.Screen()\n",
    "    my_points = [[-100, -50], [0, 100], [100, -50]]\n",
    "    sierpinski(my_points, 3, my_turtle)\n",
    "#     my_win.exitonclick()\n",
    "\n",
    "# main()"
   ]
  },
  {
   "cell_type": "code",
   "execution_count": null,
   "id": "c6fe0808",
   "metadata": {},
   "outputs": [],
   "source": []
  }
 ],
 "metadata": {
  "kernelspec": {
   "display_name": "Python 3 (ipykernel)",
   "language": "python",
   "name": "python3"
  },
  "language_info": {
   "codemirror_mode": {
    "name": "ipython",
    "version": 3
   },
   "file_extension": ".py",
   "mimetype": "text/x-python",
   "name": "python",
   "nbconvert_exporter": "python",
   "pygments_lexer": "ipython3",
   "version": "3.9.13"
  }
 },
 "nbformat": 4,
 "nbformat_minor": 5
}
