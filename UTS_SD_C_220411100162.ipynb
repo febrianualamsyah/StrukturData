{
 "cells": [
  {
   "cell_type": "code",
   "execution_count": 4,
   "id": "78de1521",
   "metadata": {},
   "outputs": [
    {
     "name": "stdout",
     "output_type": "stream",
     "text": [
      "4 -------\n",
      "[10, 25, 45, 30, 70]\n",
      "3 -------\n",
      "[10, 25, 45, 30, 70]\n",
      "3 ------idx\n",
      "inner =  [10, 25, 45, 45, 70]\n",
      "2 -------\n",
      "[10, 25, 30, 45, 70]\n",
      "1 -------\n",
      "[10, 25, 30, 45, 70]\n",
      "0 -------\n",
      "[10, 25, 30, 45, 70]\n",
      "sorted Data =  [10, 25, 30, 45, 70]\n",
      "Contoh Yang kedua ------------\n",
      "4 -------\n",
      "[31, 25, 2, 1, 25]\n",
      "3 -------\n",
      "[31, 25, 2, 1, 25]\n",
      "3 ------idx\n",
      "inner =  [31, 25, 2, 2, 25]\n",
      "2 ------idx\n",
      "inner =  [31, 25, 25, 2, 25]\n",
      "1 ------idx\n",
      "inner =  [31, 31, 25, 2, 25]\n",
      "2 -------\n",
      "[1, 31, 25, 2, 25]\n",
      "2 ------idx\n",
      "inner =  [1, 31, 31, 2, 25]\n",
      "1 -------\n",
      "[1, 25, 31, 2, 25]\n",
      "0 -------\n",
      "[1, 25, 31, 2, 25]\n",
      "sorted Data =  [1, 25, 31, 2, 25]\n"
     ]
    }
   ],
   "source": [
    "#Asscending dimulai dari index terkhir \n",
    "def insertionSort(listData):\n",
    "    for i in range(len(listData)-1,-1,-1):\n",
    "        print(i,'-------')\n",
    "        print(listData)\n",
    "        key =  listData[i]\n",
    "        idx = i\n",
    "        while idx>0 and listData[idx-1] > key :\n",
    "            print(idx,'------idx')\n",
    "            listData[idx] = listData[idx-1]\n",
    "            idx-= 1\n",
    "            print('inner = ',listData)\n",
    "        listData[idx] = key\n",
    "    print('sorted Data = ',listData)\n",
    "    \n",
    "insertionSort([10,25,45,30,70])\n",
    "print('Contoh Yang kedua ------------')\n",
    "insertionSort([31,25,2,1,25])"
   ]
  }
 ],
 "metadata": {
  "kernelspec": {
   "display_name": "Python 3 (ipykernel)",
   "language": "python",
   "name": "python3"
  },
  "language_info": {
   "codemirror_mode": {
    "name": "ipython",
    "version": 3
   },
   "file_extension": ".py",
   "mimetype": "text/x-python",
   "name": "python",
   "nbconvert_exporter": "python",
   "pygments_lexer": "ipython3",
   "version": "3.9.13"
  }
 },
 "nbformat": 4,
 "nbformat_minor": 5
}
