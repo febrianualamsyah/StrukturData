{
 "cells": [
  {
   "cell_type": "code",
   "execution_count": null,
   "id": "5b240bf4",
   "metadata": {},
   "outputs": [],
   "source": [
    "def orderedSeq(listData,found): \n",
    "    list2 = []\n",
    "    kondisi = True\n",
    "    key = 0\n",
    "    while key < len(listData) and kondisi:\n",
    "        if found == listData[key] :\n",
    "            list2.append(key) \n",
    "        elif found < listData[key] :\n",
    "            kondisi = False\n",
    "        key += 1"
   ]
  }
 ],
 "metadata": {
  "kernelspec": {
   "display_name": "Python 3 (ipykernel)",
   "language": "python",
   "name": "python3"
  },
  "language_info": {
   "codemirror_mode": {
    "name": "ipython",
    "version": 3
   },
   "file_extension": ".py",
   "mimetype": "text/x-python",
   "name": "python",
   "nbconvert_exporter": "python",
   "pygments_lexer": "ipython3",
   "version": "3.9.13"
  }
 },
 "nbformat": 4,
 "nbformat_minor": 5
}
