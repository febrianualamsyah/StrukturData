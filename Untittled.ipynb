{
 "cells": [
  {
   "cell_type": "code",
   "execution_count": 1,
   "id": "583b9422",
   "metadata": {},
   "outputs": [
    {
     "name": "stdout",
     "output_type": "stream",
     "text": [
      "21\n"
     ]
    }
   ],
   "source": [
    "def sumRecursive(dataList):\n",
    "  if len(dataList) == 1:\n",
    "    return dataList[0]\n",
    "  else:\n",
    "    return dataList[0] + sumRecursive(dataList[1:])\n",
    "\n",
    "data = [1,2,3,4,5,6]\n",
    "print(sumRecursive(data))"
   ]
  },
  {
   "cell_type": "code",
   "execution_count": 3,
   "id": "d5a35ed4",
   "metadata": {},
   "outputs": [],
   "source": [
    "class Node:\n",
    "    def __init__(self,name,time):\n",
    "        self.name = name\n",
    "        self.next = None\n",
    "        self.time = time\n",
    "    def getName(self):\n",
    "        return self.name\n",
    "    def getNext(self):\n",
    "        return self.next\n",
    "    def getTime(self):\n",
    "        return self.time\n",
    "    def setIName(self,newValue):\n",
    "        self.name = newValue\n",
    "    def setNext(self,newNode):\n",
    "        self.next = newNode\n",
    "    def setTime(self,time):\n",
    "        self.time = time\n",
    "       "
   ]
  },
  {
   "cell_type": "code",
   "execution_count": 4,
   "id": "2e48a3c0",
   "metadata": {},
   "outputs": [],
   "source": [
    "class Queue:\n",
    "    def __init__(self):\n",
    "        self.head = None\n",
    "        \n",
    "    def isEmpty(self):\n",
    "        return self.head == None\n",
    "\n",
    "    def enqueue(self,name,time): \n",
    "        newNode = Node(name,time)\n",
    "        newNode.next = self.head\n",
    "        self.head = newNode \n",
    "      \n",
    "    def size(self):\n",
    "        current = self.head\n",
    "        count = 0\n",
    "        while current != None :\n",
    "            count+=1\n",
    "            current = current.getNext()\n",
    "        return count\n",
    "    \n",
    "    def display(self):\n",
    "        current = self.head \n",
    "        temp = \"\"\n",
    "        while current != None :\n",
    "            temp = \"['\"+current.getName()+\"',\"+str(current.getTime()) + \"]\" + temp\n",
    "            current = current.getNext()\n",
    "        return temp\n",
    "    \n",
    "    def addRear(self,name,time):\n",
    "        newNode = Node(name,time)\n",
    "        if self.head == None :\n",
    "            self.head = newNode\n",
    "        else:\n",
    "            current = self.head\n",
    "            while current.getNext() != None: \n",
    "                current  = current.getNext()\n",
    "            current.next = newNode\n",
    "    \n",
    "    def dequeue(self):\n",
    "        if self.head.next == None :\n",
    "            temp = self.head\n",
    "            self.head = None\n",
    "            return temp\n",
    "        else:\n",
    "            current = self.head\n",
    "            while current.getNext() != None:\n",
    "                prev = current\n",
    "                current  = current.getNext()\n",
    "            temp = current\n",
    "            prev.next = None\n",
    "        return temp\n",
    "\n",
    "\n",
    "def inputQueue(numOfTask):\n",
    "    task = Queue()\n",
    "    for i in range(numOfTask):\n",
    "        nama = input(\"Nama Proses = \")\n",
    "        waktu = int(input('Waktu Proses  = '))\n",
    "        task.enqueue(nama,waktu)\n",
    "    return task"
   ]
  },
  {
   "cell_type": "code",
   "execution_count": 18,
   "id": "fd7bdd09",
   "metadata": {},
   "outputs": [
    {
     "name": "stdout",
     "output_type": "stream",
     "text": [
      "Nama Proses = A\n",
      "Waktu Proses  = 2\n",
      "Nama Proses = B\n",
      "Waktu Proses  = 1\n",
      "Nama Proses = C\n",
      "Waktu Proses  = 3\n",
      "Nama Proses = D\n",
      "Waktu Proses  = 2\n",
      "Nama Proses = E\n",
      "Waktu Proses  = 4\n",
      "Nama Proses = F\n",
      "Waktu Proses  = 2\n"
     ]
    }
   ],
   "source": [
    "QueueR1 = inputQueue(6)"
   ]
  },
  {
   "cell_type": "code",
   "execution_count": 19,
   "id": "65787238",
   "metadata": {},
   "outputs": [
    {
     "data": {
      "text/plain": [
       "\"['A',2]['B',1]['C',3]['D',2]['E',4]['F',2]\""
      ]
     },
     "execution_count": 19,
     "metadata": {},
     "output_type": "execute_result"
    }
   ],
   "source": [
    "QueueR1.display()"
   ]
  },
  {
   "cell_type": "code",
   "execution_count": 20,
   "id": "59c0d7fb",
   "metadata": {},
   "outputs": [],
   "source": [
    "def scheduling(task,limitTime):\n",
    "    taskQueue = task\n",
    "    total = 0\n",
    "    \n",
    "    while not taskQueue.isEmpty():\n",
    "        print(taskQueue.display(),'  Total waktu CPU : ',total)    \n",
    "        temp = taskQueue.dequeue()\n",
    "        waktuTunggu = temp.getTime() - limitTime\n",
    "        \n",
    "        if waktuTunggu > 0 :\n",
    "            taskQueue.enqueue(temp.getName(),waktuTunggu)\n",
    "            prosTime = limitTime\n",
    "        else:\n",
    "            prosTime = temp.getTime()\n",
    "            waktuTunggu = 0   \n",
    "\n",
    "        temp.time = waktuTunggu\n",
    "        total += prosTime\n",
    "        \n",
    "        \n",
    "    print(\"Total waktu yang dibutuhkan CPU\",total)"
   ]
  },
  {
   "cell_type": "code",
   "execution_count": 21,
   "id": "a49ebbee",
   "metadata": {},
   "outputs": [
    {
     "name": "stdout",
     "output_type": "stream",
     "text": [
      "['A',2]['B',1]['C',3]['D',2]['E',4]['F',2]   Total waktu CPU :  0\n",
      "['B',1]['C',3]['D',2]['E',4]['F',2]   Total waktu CPU :  2\n",
      "['C',3]['D',2]['E',4]['F',2]   Total waktu CPU :  3\n",
      "['D',2]['E',4]['F',2]['C',1]   Total waktu CPU :  5\n",
      "['E',4]['F',2]['C',1]   Total waktu CPU :  7\n",
      "['F',2]['C',1]['E',2]   Total waktu CPU :  9\n",
      "['C',1]['E',2]   Total waktu CPU :  11\n",
      "['E',2]   Total waktu CPU :  12\n",
      "Total waktu yang dibutuhkan CPU 14\n"
     ]
    }
   ],
   "source": [
    "scheduling(QueueR1,2)"
   ]
  }
 ],
 "metadata": {
  "kernelspec": {
   "display_name": "Python 3 (ipykernel)",
   "language": "python",
   "name": "python3"
  },
  "language_info": {
   "codemirror_mode": {
    "name": "ipython",
    "version": 3
   },
   "file_extension": ".py",
   "mimetype": "text/x-python",
   "name": "python",
   "nbconvert_exporter": "python",
   "pygments_lexer": "ipython3",
   "version": "3.9.13"
  }
 },
 "nbformat": 4,
 "nbformat_minor": 5
}
